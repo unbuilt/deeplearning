{
 "cells": [
  {
   "cell_type": "code",
   "execution_count": 3,
   "metadata": {
    "collapsed": true
   },
   "outputs": [],
   "source": [
    "import sklearn as skl\n",
    "from sklearn import cross_validation, svm, metrics"
   ]
  },
  {
   "cell_type": "code",
   "execution_count": 4,
   "metadata": {
    "collapsed": false
   },
   "outputs": [],
   "source": [
    "# THE MNIST DATABASE of handwritten digits: http://yann.lecun.com/exdb/mnist/"
   ]
  },
  {
   "cell_type": "code",
   "execution_count": 5,
   "metadata": {
    "collapsed": false
   },
   "outputs": [],
   "source": [
    "import struct\n",
    "import os\n",
    "import gzip  \n",
    "\n",
    "def load_mnist(datapath, dataset):\n",
    "    label_filename = os.path.join(datapath, dataset + \"-labels-idx1-ubyte.gz\")\n",
    "    image_filename = os.path.join(datapath, dataset + \"-images-idx3-ubyte.gz\")\n",
    "    \n",
    "    label_file = gzip.open(label_filename, 'rb')\n",
    "    image_file = gzip.open(image_filename, 'rb')\n",
    "\n",
    "    magic, label_count = struct.unpack(\">II\", label_file.read(8))\n",
    "    magic, image_count = struct.unpack(\">II\", image_file.read(8))\n",
    "    row_count, col_count = struct.unpack(\">II\", image_file.read(8))\n",
    "\n",
    "    pixel_count = row_count * col_count\n",
    "\n",
    "    data = {\n",
    "        'labels': [],\n",
    "        'images': []\n",
    "    }\n",
    "    for idx in range(label_count):\n",
    "        label = struct.unpack(\"B\", label_file.read(1))[0]\n",
    "        image_data = image_file.read(pixel_count)\n",
    "        image_data = list(map(lambda n: int(n)/256, image_data))\n",
    "        data['labels'].append(label)\n",
    "        data['images'].append(image_data)\n",
    "    label_file.close()\n",
    "    image_file.close()\n",
    "    \n",
    "    return data"
   ]
  },
  {
   "cell_type": "code",
   "execution_count": 6,
   "metadata": {
    "collapsed": false
   },
   "outputs": [
    {
     "name": "stdout",
     "output_type": "stream",
     "text": [
      "60000\n",
      "60000\n"
     ]
    }
   ],
   "source": [
    "train_data = load_mnist('./mnist/', 'train')\n",
    "print(len(train_data['labels']))\n",
    "print(len(train_data['images']))"
   ]
  },
  {
   "cell_type": "code",
   "execution_count": 7,
   "metadata": {
    "collapsed": false
   },
   "outputs": [
    {
     "name": "stdout",
     "output_type": "stream",
     "text": [
      "10000\n",
      "10000\n"
     ]
    }
   ],
   "source": [
    "test_data = load_mnist('./mnist/', 't10k')\n",
    "print(len(test_data['labels']))\n",
    "print(len(test_data['images']))"
   ]
  },
  {
   "cell_type": "code",
   "execution_count": 47,
   "metadata": {
    "collapsed": true
   },
   "outputs": [],
   "source": []
  },
  {
   "cell_type": "code",
   "execution_count": 8,
   "metadata": {
    "collapsed": true
   },
   "outputs": [],
   "source": [
    "# Try feature engineering\n",
    "def compose_features(train_x, test_x):\n",
    "    for image in train_x:\n",
    "        for i in range(28):\n",
    "            c = 0\n",
    "            for j in range(28):\n",
    "                c += image[i+j*28]\n",
    "            image.append(c/28)\n",
    "    for image in test_x:\n",
    "        for i in range(28):\n",
    "            c = 0\n",
    "            for j in range(28):\n",
    "                c += image[i+j*28]\n",
    "            image.append(c/28)"
   ]
  },
  {
   "cell_type": "code",
   "execution_count": null,
   "metadata": {
    "collapsed": false
   },
   "outputs": [],
   "source": []
  },
  {
   "cell_type": "code",
   "execution_count": 9,
   "metadata": {
    "collapsed": true
   },
   "outputs": [],
   "source": [
    "def test_classifier(clf, func_compose_feature=None):\n",
    "    train_data = load_mnist('./mnist/', 'train')\n",
    "    test_data = load_mnist('./mnist/', 't10k')\n",
    "    train_x = [image[:] for image in train_data['images']]\n",
    "    test_x = [image[:] for image in test_data['images']]\n",
    "\n",
    "    # Feature engineering example, this is optional\n",
    "    if func_compose_feature:\n",
    "        func_compose_feature(train_x, test_x)\n",
    "    \n",
    "    # Train the classifier\n",
    "    clf.fit(train_x, train_data['labels'])\n",
    "    \n",
    "    # Validate the classifier\n",
    "    predicts = clf.predict(test_x)\n",
    "    score = skl.metrics.accuracy_score(test_data[\"labels\"], predicts)\n",
    "    report = skl.metrics.classification_report(test_data[\"labels\"], predicts)\n",
    "    print(score)\n",
    "    print(report)"
   ]
  },
  {
   "cell_type": "code",
   "execution_count": null,
   "metadata": {
    "collapsed": true
   },
   "outputs": [],
   "source": []
  },
  {
   "cell_type": "code",
   "execution_count": 60,
   "metadata": {
    "collapsed": false
   },
   "outputs": [
    {
     "name": "stdout",
     "output_type": "stream",
     "text": [
      "0.9428\n",
      "             precision    recall  f1-score   support\n",
      "\n",
      "          0       0.94      0.99      0.96       980\n",
      "          1       0.98      0.99      0.98      1135\n",
      "          2       0.92      0.95      0.93      1032\n",
      "          3       0.91      0.93      0.92      1010\n",
      "          4       0.94      0.94      0.94       982\n",
      "          5       0.92      0.92      0.92       892\n",
      "          6       0.96      0.94      0.95       958\n",
      "          7       0.96      0.95      0.95      1028\n",
      "          8       0.95      0.90      0.92       974\n",
      "          9       0.95      0.91      0.93      1009\n",
      "\n",
      "avg / total       0.94      0.94      0.94     10000\n",
      "\n"
     ]
    }
   ],
   "source": [
    "from sklearn.ensemble import RandomForestClassifier  \n",
    "rfc = RandomForestClassifier(n_estimators=8)  \n",
    "test_classifier(rfc)"
   ]
  },
  {
   "cell_type": "code",
   "execution_count": 68,
   "metadata": {
    "collapsed": false
   },
   "outputs": [
    {
     "name": "stdout",
     "output_type": "stream",
     "text": [
      "0.9427\n",
      "             precision    recall  f1-score   support\n",
      "\n",
      "          0       0.96      0.99      0.97       980\n",
      "          1       0.98      0.99      0.99      1135\n",
      "          2       0.92      0.95      0.94      1032\n",
      "          3       0.91      0.93      0.92      1010\n",
      "          4       0.93      0.95      0.94       982\n",
      "          5       0.93      0.93      0.93       892\n",
      "          6       0.96      0.96      0.96       958\n",
      "          7       0.96      0.93      0.94      1028\n",
      "          8       0.93      0.90      0.91       974\n",
      "          9       0.94      0.91      0.93      1009\n",
      "\n",
      "avg / total       0.94      0.94      0.94     10000\n",
      "\n"
     ]
    }
   ],
   "source": [
    "rfc = RandomForestClassifier(n_estimators=8)  \n",
    "test_classifier(rfc, compose_features)"
   ]
  },
  {
   "cell_type": "code",
   "execution_count": 67,
   "metadata": {
    "collapsed": false
   },
   "outputs": [],
   "source": []
  },
  {
   "cell_type": "code",
   "execution_count": null,
   "metadata": {
    "collapsed": false
   },
   "outputs": [
    {
     "name": "stdout",
     "output_type": "stream",
     "text": [
      "0.9443\n",
      "             precision    recall  f1-score   support\n",
      "\n",
      "          0       0.96      0.99      0.97       980\n",
      "          1       0.97      0.99      0.98      1135\n",
      "          2       0.94      0.93      0.93      1032\n",
      "          3       0.93      0.94      0.93      1010\n",
      "          4       0.93      0.96      0.94       982\n",
      "          5       0.93      0.91      0.92       892\n",
      "          6       0.95      0.97      0.96       958\n",
      "          7       0.96      0.93      0.94      1028\n",
      "          8       0.94      0.92      0.93       974\n",
      "          9       0.94      0.92      0.93      1009\n",
      "\n",
      "avg / total       0.94      0.94      0.94     10000\n",
      "\n"
     ]
    }
   ],
   "source": [
    "clf_svm = skl.svm.SVC()\n",
    "test_classifier(clf_svm)"
   ]
  },
  {
   "cell_type": "code",
   "execution_count": null,
   "metadata": {
    "collapsed": true
   },
   "outputs": [],
   "source": []
  },
  {
   "cell_type": "code",
   "execution_count": null,
   "metadata": {
    "collapsed": false
   },
   "outputs": [],
   "source": [
    "from sklearn.linear_model import LogisticRegression  \n",
    "lr = LogisticRegression(penalty='l2')\n",
    "test_classifier(lr)"
   ]
  },
  {
   "cell_type": "code",
   "execution_count": null,
   "metadata": {
    "collapsed": false
   },
   "outputs": [],
   "source": []
  },
  {
   "cell_type": "code",
   "execution_count": 10,
   "metadata": {
    "collapsed": false
   },
   "outputs": [
    {
     "name": "stdout",
     "output_type": "stream",
     "text": [
      "0.9595\n",
      "             precision    recall  f1-score   support\n",
      "\n",
      "          0       0.97      0.99      0.98       980\n",
      "          1       0.98      0.99      0.98      1135\n",
      "          2       0.96      0.95      0.95      1032\n",
      "          3       0.95      0.95      0.95      1010\n",
      "          4       0.96      0.97      0.97       982\n",
      "          5       0.95      0.95      0.95       892\n",
      "          6       0.97      0.96      0.96       958\n",
      "          7       0.97      0.93      0.95      1028\n",
      "          8       0.94      0.96      0.95       974\n",
      "          9       0.94      0.95      0.94      1009\n",
      "\n",
      "avg / total       0.96      0.96      0.96     10000\n",
      "\n"
     ]
    }
   ],
   "source": [
    "from sklearn.ensemble import GradientBoostingClassifier  \n",
    "gbdt = GradientBoostingClassifier(n_estimators=200)\n",
    "test_classifier(gbdt)"
   ]
  },
  {
   "cell_type": "code",
   "execution_count": null,
   "metadata": {
    "collapsed": false
   },
   "outputs": [],
   "source": []
  },
  {
   "cell_type": "code",
   "execution_count": null,
   "metadata": {
    "collapsed": true
   },
   "outputs": [],
   "source": []
  }
 ],
 "metadata": {
  "anaconda-cloud": {},
  "kernelspec": {
   "display_name": "Python [conda root]",
   "language": "python",
   "name": "conda-root-py"
  },
  "language_info": {
   "codemirror_mode": {
    "name": "ipython",
    "version": 3
   },
   "file_extension": ".py",
   "mimetype": "text/x-python",
   "name": "python",
   "nbconvert_exporter": "python",
   "pygments_lexer": "ipython3",
   "version": "3.5.2"
  }
 },
 "nbformat": 4,
 "nbformat_minor": 1
}
